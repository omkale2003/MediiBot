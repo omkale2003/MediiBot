{
 "cells": [
  {
   "cell_type": "code",
   "execution_count": 1,
   "metadata": {},
   "outputs": [
    {
     "name": "stdout",
     "output_type": "stream",
     "text": [
      "hello\n"
     ]
    }
   ],
   "source": [
    "print(\"hello\")"
   ]
  },
  {
   "cell_type": "code",
   "execution_count": 7,
   "metadata": {},
   "outputs": [
    {
     "name": "stdout",
     "output_type": "stream",
     "text": [
      "Index(['qtype', 'Question', 'Answer'], dtype='object')\n"
     ]
    }
   ],
   "source": [
    "import pandas as pd\n",
    "\n",
    "df = pd.read_csv(r'C:/Users/ACER/OneDrive/Desktop/mca/pro2/medical_chatbot/Data/train.csv')\n",
    "print(df.columns)  # Show available column names\n"
   ]
  },
  {
   "cell_type": "code",
   "execution_count": 8,
   "metadata": {},
   "outputs": [],
   "source": [
    "qa_dict = dict(zip(df[\"Question\"].str.lower(), df[\"Answer\"]))  # Adjust column names if needed\n"
   ]
  },
  {
   "cell_type": "code",
   "execution_count": 10,
   "metadata": {},
   "outputs": [],
   "source": [
    "df.columns = df.columns.str.strip()  # Remove leading/trailing spaces\n",
    "qa_dict = dict(zip(df[\"Question\"].str.lower(), df[\"Answer\"]))\n"
   ]
  },
  {
   "cell_type": "code",
   "execution_count": 11,
   "metadata": {},
   "outputs": [
    {
     "name": "stdout",
     "output_type": "stream",
     "text": [
      "I'm sorry, I don't have an answer for that.\n"
     ]
    }
   ],
   "source": [
    "def get_answer(user_input):\n",
    "    user_input = user_input.lower().strip()\n",
    "    return qa_dict.get(user_input, \"I'm sorry, I don't have an answer for that.\")\n",
    "\n",
    "# Example usage\n",
    "user_query = \"What are the symptoms of malaria?\"\n",
    "print(get_answer(user_query))\n"
   ]
  },
  {
   "cell_type": "code",
   "execution_count": 12,
   "metadata": {},
   "outputs": [
    {
     "ename": "ModuleNotFoundError",
     "evalue": "No module named 'rapidfuzz'",
     "output_type": "error",
     "traceback": [
      "\u001b[1;31m---------------------------------------------------------------------------\u001b[0m",
      "\u001b[1;31mModuleNotFoundError\u001b[0m                       Traceback (most recent call last)",
      "Cell \u001b[1;32mIn[12], line 1\u001b[0m\n\u001b[1;32m----> 1\u001b[0m \u001b[38;5;28;01mfrom\u001b[39;00m \u001b[38;5;21;01mrapidfuzz\u001b[39;00m \u001b[38;5;28;01mimport\u001b[39;00m process\n\u001b[0;32m      3\u001b[0m \u001b[38;5;28;01mdef\u001b[39;00m \u001b[38;5;21mget_best_match\u001b[39m(user_input):\n\u001b[0;32m      4\u001b[0m     best_match, score, _ \u001b[38;5;241m=\u001b[39m process\u001b[38;5;241m.\u001b[39mextractOne(user_input, qa_dict\u001b[38;5;241m.\u001b[39mkeys())\n",
      "\u001b[1;31mModuleNotFoundError\u001b[0m: No module named 'rapidfuzz'"
     ]
    }
   ],
   "source": [
    "from rapidfuzz import process\n",
    "\n",
    "def get_best_match(user_input):\n",
    "    best_match, score, _ = process.extractOne(user_input, qa_dict.keys())\n",
    "    if score > 80:  # Acceptable similarity threshold\n",
    "        return qa_dict[best_match]\n",
    "    else:\n",
    "        return \"I'm not sure. Could you rephrase your question?\"\n",
    "\n",
    "# Example usage\n",
    "user_query = \"what r malaria symptoms\"\n",
    "print(get_best_match(user_query))\n"
   ]
  },
  {
   "cell_type": "code",
   "execution_count": null,
   "metadata": {},
   "outputs": [],
   "source": []
  }
 ],
 "metadata": {
  "kernelspec": {
   "display_name": "base",
   "language": "python",
   "name": "python3"
  },
  "language_info": {
   "codemirror_mode": {
    "name": "ipython",
    "version": 3
   },
   "file_extension": ".py",
   "mimetype": "text/x-python",
   "name": "python",
   "nbconvert_exporter": "python",
   "pygments_lexer": "ipython3",
   "version": "3.12.4"
  }
 },
 "nbformat": 4,
 "nbformat_minor": 2
}
